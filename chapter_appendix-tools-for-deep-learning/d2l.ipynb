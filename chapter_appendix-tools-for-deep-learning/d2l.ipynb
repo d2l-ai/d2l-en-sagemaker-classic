{
 "cells": [
  {
   "cell_type": "markdown",
   "id": "98a6d4aa",
   "metadata": {
    "origin_pos": 0
   },
   "source": [
    "# `d2l` API Document\n",
    ":label:`sec_d2l`\n",
    "\n",
    "The implementations of the following members of the `d2l` package and sections where they are defined and explained can be found in the [source file](https://github.com/d2l-ai/d2l-en/tree/master/d2l).\n"
   ]
  },
  {
   "cell_type": "markdown",
   "id": "e32a1628",
   "metadata": {
    "origin_pos": 1,
    "tab": [
     "mxnet"
    ]
   },
   "source": [
    "```eval_rst\n",
    "\n",
    ".. automodule:: d2l.mxnet\n",
    "   :members:\n",
    "\n",
    "```\n"
   ]
  }
 ],
 "metadata": {
  "kernelspec": {
   "display_name": "conda_mxnet_p36",
   "name": "conda_mxnet_p36"
  },
  "language_info": {
   "name": "python"
  }
 },
 "nbformat": 4,
 "nbformat_minor": 5
}